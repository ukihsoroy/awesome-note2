{
 "cells": [
  {
   "cell_type": "markdown",
   "metadata": {},
   "source": [
    "## 数据归一化处理"
   ]
  },
  {
   "cell_type": "code",
   "execution_count": 1,
   "metadata": {},
   "outputs": [],
   "source": [
    "import numpy as np\n",
    "import matplotlib.pyplot as plt"
   ]
  },
  {
   "cell_type": "markdown",
   "metadata": {},
   "source": [
    "### 最值归一化 Normalization"
   ]
  },
  {
   "cell_type": "code",
   "execution_count": 2,
   "metadata": {},
   "outputs": [],
   "source": [
    "x = np.random.randint(0, 100, size=100)"
   ]
  },
  {
   "cell_type": "code",
   "execution_count": 3,
   "metadata": {},
   "outputs": [
    {
     "data": {
      "text/plain": [
       "array([81, 18, 68, 81, 62, 91, 34,  3, 83, 96, 26, 45,  8, 41, 59, 24, 92,\n",
       "       60, 32, 92, 41,  1, 25, 70, 29, 84, 13, 14, 86, 66, 37, 26, 13, 70,\n",
       "       24, 59, 59, 60, 54, 63, 49, 84, 41, 75, 74, 85, 69,  1, 15, 66, 27,\n",
       "       85, 79, 51, 14, 69, 42, 12, 58, 67, 28, 43, 53, 67, 58, 16, 41, 38,\n",
       "       89, 98, 62, 50, 32, 89, 13, 68, 43, 44, 49, 83,  4, 10, 68,  7,  0,\n",
       "       25,  2, 64, 19, 68, 63, 51,  0, 16,  6, 59, 77,  3, 55, 22])"
      ]
     },
     "execution_count": 3,
     "metadata": {},
     "output_type": "execute_result"
    }
   ],
   "source": [
    "x"
   ]
  },
  {
   "cell_type": "code",
   "execution_count": 7,
   "metadata": {},
   "outputs": [],
   "source": [
    " x = (x - np.min(x)) / (np.max(x) - np.min(x))"
   ]
  },
  {
   "cell_type": "code",
   "execution_count": 8,
   "metadata": {},
   "outputs": [
    {
     "data": {
      "text/plain": [
       "array([0.82653061, 0.18367347, 0.69387755, 0.82653061, 0.63265306,\n",
       "       0.92857143, 0.34693878, 0.03061224, 0.84693878, 0.97959184,\n",
       "       0.26530612, 0.45918367, 0.08163265, 0.41836735, 0.60204082,\n",
       "       0.24489796, 0.93877551, 0.6122449 , 0.32653061, 0.93877551,\n",
       "       0.41836735, 0.01020408, 0.25510204, 0.71428571, 0.29591837,\n",
       "       0.85714286, 0.13265306, 0.14285714, 0.87755102, 0.67346939,\n",
       "       0.37755102, 0.26530612, 0.13265306, 0.71428571, 0.24489796,\n",
       "       0.60204082, 0.60204082, 0.6122449 , 0.55102041, 0.64285714,\n",
       "       0.5       , 0.85714286, 0.41836735, 0.76530612, 0.75510204,\n",
       "       0.86734694, 0.70408163, 0.01020408, 0.15306122, 0.67346939,\n",
       "       0.2755102 , 0.86734694, 0.80612245, 0.52040816, 0.14285714,\n",
       "       0.70408163, 0.42857143, 0.12244898, 0.59183673, 0.68367347,\n",
       "       0.28571429, 0.43877551, 0.54081633, 0.68367347, 0.59183673,\n",
       "       0.16326531, 0.41836735, 0.3877551 , 0.90816327, 1.        ,\n",
       "       0.63265306, 0.51020408, 0.32653061, 0.90816327, 0.13265306,\n",
       "       0.69387755, 0.43877551, 0.44897959, 0.5       , 0.84693878,\n",
       "       0.04081633, 0.10204082, 0.69387755, 0.07142857, 0.        ,\n",
       "       0.25510204, 0.02040816, 0.65306122, 0.19387755, 0.69387755,\n",
       "       0.64285714, 0.52040816, 0.        , 0.16326531, 0.06122449,\n",
       "       0.60204082, 0.78571429, 0.03061224, 0.56122449, 0.2244898 ])"
      ]
     },
     "execution_count": 8,
     "metadata": {},
     "output_type": "execute_result"
    }
   ],
   "source": [
    "x"
   ]
  },
  {
   "cell_type": "code",
   "execution_count": 17,
   "metadata": {},
   "outputs": [],
   "source": [
    "X = np.random.randint(0, 100, (50, 2))"
   ]
  },
  {
   "cell_type": "code",
   "execution_count": 18,
   "metadata": {},
   "outputs": [
    {
     "data": {
      "text/plain": [
       "array([[59, 91],\n",
       "       [90, 65],\n",
       "       [95, 56],\n",
       "       [31, 41],\n",
       "       [49, 57],\n",
       "       [64, 41],\n",
       "       [10, 82],\n",
       "       [85, 81],\n",
       "       [25, 94],\n",
       "       [98,  7]])"
      ]
     },
     "execution_count": 18,
     "metadata": {},
     "output_type": "execute_result"
    }
   ],
   "source": [
    "X[:10,:]"
   ]
  },
  {
   "cell_type": "code",
   "execution_count": 19,
   "metadata": {},
   "outputs": [],
   "source": [
    "X = np.array(X, dtype=float)"
   ]
  },
  {
   "cell_type": "code",
   "execution_count": 20,
   "metadata": {},
   "outputs": [
    {
     "data": {
      "text/plain": [
       "array([[59., 91.],\n",
       "       [90., 65.],\n",
       "       [95., 56.],\n",
       "       [31., 41.],\n",
       "       [49., 57.],\n",
       "       [64., 41.],\n",
       "       [10., 82.],\n",
       "       [85., 81.],\n",
       "       [25., 94.],\n",
       "       [98.,  7.]])"
      ]
     },
     "execution_count": 20,
     "metadata": {},
     "output_type": "execute_result"
    }
   ],
   "source": [
    "X[:10, :]"
   ]
  },
  {
   "cell_type": "code",
   "execution_count": 21,
   "metadata": {},
   "outputs": [],
   "source": [
    "X[:, 0] = (X[:, 0] - np.min(X[:, 0])) / (np.max(X[:, 0]) - np.min(X[:, 0]))"
   ]
  },
  {
   "cell_type": "code",
   "execution_count": 23,
   "metadata": {},
   "outputs": [],
   "source": [
    "X[:, 1] = (X[:, 1] - np.min(X[:, 1])) / (np.max(X[:, 1]) - np.min(X[:, 1]))"
   ]
  },
  {
   "cell_type": "code",
   "execution_count": 25,
   "metadata": {},
   "outputs": [
    {
     "data": {
      "text/plain": [
       "array([[0.59375   , 0.94791667],\n",
       "       [0.91666667, 0.67708333],\n",
       "       [0.96875   , 0.58333333],\n",
       "       [0.30208333, 0.42708333],\n",
       "       [0.48958333, 0.59375   ],\n",
       "       [0.64583333, 0.42708333],\n",
       "       [0.08333333, 0.85416667],\n",
       "       [0.86458333, 0.84375   ],\n",
       "       [0.23958333, 0.97916667],\n",
       "       [1.        , 0.07291667]])"
      ]
     },
     "execution_count": 25,
     "metadata": {},
     "output_type": "execute_result"
    }
   ],
   "source": [
    "X[:10, :]"
   ]
  },
  {
   "cell_type": "code",
   "execution_count": 26,
   "metadata": {},
   "outputs": [
    {
     "data": {
      "image/png": "[encoded data removed]",
      "text/plain": [
       "<Figure size 432x288 with 1 Axes>"
      ]
     },
     "metadata": {
      "needs_background": "light"
     },
     "output_type": "display_data"
    }
   ],
   "source": [
    "plt.scatter(X[:, 0], X[:, 1])\n",
    "plt.show()"
   ]
  },
  {
   "cell_type": "code",
   "execution_count": 28,
   "metadata": {},
   "outputs": [
    {
     "data": {
      "text/plain": [
       "0.510625"
      ]
     },
     "execution_count": 28,
     "metadata": {},
     "output_type": "execute_result"
    }
   ],
   "source": [
    "# 均值\n",
    "np.mean(X[:, 0])"
   ]
  },
  {
   "cell_type": "code",
   "execution_count": 31,
   "metadata": {},
   "outputs": [
    {
     "data": {
      "text/plain": [
       "0.28306122043453585"
      ]
     },
     "execution_count": 31,
     "metadata": {},
     "output_type": "execute_result"
    }
   ],
   "source": [
    "np.std(X[:, 0])"
   ]
  },
  {
   "cell_type": "code",
   "execution_count": 30,
   "metadata": {},
   "outputs": [
    {
     "data": {
      "text/plain": [
       "0.5566666666666666"
      ]
     },
     "execution_count": 30,
     "metadata": {},
     "output_type": "execute_result"
    }
   ],
   "source": [
    "# 均值\n",
    "np.mean(X[:, 1])"
   ]
  },
  {
   "cell_type": "code",
   "execution_count": 32,
   "metadata": {},
   "outputs": [
    {
     "data": {
      "text/plain": [
       "0.3030312713052712"
      ]
     },
     "execution_count": 32,
     "metadata": {},
     "output_type": "execute_result"
    }
   ],
   "source": [
    "np.std(X[:, 1])"
   ]
  },
  {
   "cell_type": "markdown",
   "metadata": {},
   "source": [
    "### 均值方差归一化 Standardization"
   ]
  },
  {
   "cell_type": "code",
   "execution_count": 33,
   "metadata": {},
   "outputs": [],
   "source": [
    "X2 = np.random.randint(0, 100, (50, 2))"
   ]
  },
  {
   "cell_type": "code",
   "execution_count": 34,
   "metadata": {},
   "outputs": [],
   "source": [
    "X2 = np.array(X2, dtype=float)"
   ]
  },
  {
   "cell_type": "code",
   "execution_count": 35,
   "metadata": {},
   "outputs": [],
   "source": [
    "X2[:, 0] = (X2[:, 0] - np.mean(X2[:, 0])) / np.std(X2[:, 0])"
   ]
  },
  {
   "cell_type": "code",
   "execution_count": 36,
   "metadata": {},
   "outputs": [],
   "source": [
    "X2[:, 1] = (X2[:, 1] - np.mean(X2[:, 1])) / np.std(X2[:, 1])"
   ]
  },
  {
   "cell_type": "code",
   "execution_count": 38,
   "metadata": {},
   "outputs": [
    {
     "data": {
      "text/plain": [
       "array([[-0.27795861, -1.24487338],\n",
       "       [ 0.66304711,  0.45632014],\n",
       "       [-1.18277181,  1.42366548],\n",
       "       [-0.74846147, -1.27823011],\n",
       "       [ 0.9163948 ,  0.52303362],\n",
       "       [ 0.48208447,  1.1568116 ],\n",
       "       [ 0.518277  , -0.41095498],\n",
       "       [ 0.04777414, -0.44431172],\n",
       "       [ 0.08396666,  1.12345486],\n",
       "       [ 1.06116491, -0.1441011 ]])"
      ]
     },
     "execution_count": 38,
     "metadata": {},
     "output_type": "execute_result"
    }
   ],
   "source": [
    "X2[:10, :]"
   ]
  },
  {
   "cell_type": "code",
   "execution_count": 40,
   "metadata": {},
   "outputs": [
    {
     "data": {
      "image/png": "[encoded data removed]",
      "text/plain": [
       "<Figure size 432x288 with 1 Axes>"
      ]
     },
     "metadata": {
      "needs_background": "light"
     },
     "output_type": "display_data"
    }
   ],
   "source": [
    "plt.scatter(X2[:, 0], X2[:, 1])\n",
    "plt.show()"
   ]
  },
  {
   "cell_type": "code",
   "execution_count": 41,
   "metadata": {},
   "outputs": [
    {
     "data": {
      "text/plain": [
       "6.661338147750939e-18"
      ]
     },
     "execution_count": 41,
     "metadata": {},
     "output_type": "execute_result"
    }
   ],
   "source": [
    "np.mean(X2[:, 0])"
   ]
  },
  {
   "cell_type": "code",
   "execution_count": 42,
   "metadata": {},
   "outputs": [
    {
     "data": {
      "text/plain": [
       "0.9999999999999999"
      ]
     },
     "execution_count": 42,
     "metadata": {},
     "output_type": "execute_result"
    }
   ],
   "source": [
    "np.std(X2[:, 0])"
   ]
  },
  {
   "cell_type": "code",
   "execution_count": 43,
   "metadata": {},
   "outputs": [
    {
     "data": {
      "text/plain": [
       "-1.4432899320127036e-17"
      ]
     },
     "execution_count": 43,
     "metadata": {},
     "output_type": "execute_result"
    }
   ],
   "source": [
    "np.mean(X2[:, 1])"
   ]
  },
  {
   "cell_type": "code",
   "execution_count": 44,
   "metadata": {},
   "outputs": [
    {
     "data": {
      "text/plain": [
       "1.0"
      ]
     },
     "execution_count": 44,
     "metadata": {},
     "output_type": "execute_result"
    }
   ],
   "source": [
    "np.std(X2[:, 1])"
   ]
  },
  {
   "cell_type": "code",
   "execution_count": null,
   "metadata": {},
   "outputs": [],
   "source": []
  }
 ],
 "metadata": {
  "kernelspec": {
   "display_name": "Python 3",
   "language": "python",
   "name": "python3"
  },
  "language_info": {
   "codemirror_mode": {
    "name": "ipython",
    "version": 3
   },
   "file_extension": ".py",
   "mimetype": "text/x-python",
   "name": "python",
   "nbconvert_exporter": "python",
   "pygments_lexer": "ipython3",
   "version": "3.7.0"
  }
 },
 "nbformat": 4,
 "nbformat_minor": 2
}
