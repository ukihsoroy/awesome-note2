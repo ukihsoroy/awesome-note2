{
 "cells": [
  {
   "cell_type": "code",
   "execution_count": 3,
   "id": "initial_id",
   "metadata": {
    "collapsed": true,
    "ExecuteTime": {
     "end_time": "2024-05-22T10:25:33.891072Z",
     "start_time": "2024-05-22T10:25:26.942108Z"
    }
   },
   "outputs": [
    {
     "name": "stdout",
     "output_type": "stream",
     "text": [
      "Requirement already satisfied: transformers in /Users/bytedance/Codes/llm-moon-landing/venv/lib/python3.9/site-packages (4.41.0)\r\n",
      "Requirement already satisfied: filelock in /Users/bytedance/Codes/llm-moon-landing/venv/lib/python3.9/site-packages (from transformers) (3.14.0)\r\n",
      "Requirement already satisfied: huggingface-hub<1.0,>=0.23.0 in /Users/bytedance/Codes/llm-moon-landing/venv/lib/python3.9/site-packages (from transformers) (0.23.1)\r\n",
      "Requirement already satisfied: numpy>=1.17 in /Users/bytedance/Codes/llm-moon-landing/venv/lib/python3.9/site-packages (from transformers) (1.26.4)\r\n",
      "Requirement already satisfied: packaging>=20.0 in /Users/bytedance/Codes/llm-moon-landing/venv/lib/python3.9/site-packages (from transformers) (24.0)\r\n",
      "Requirement already satisfied: pyyaml>=5.1 in /Users/bytedance/Codes/llm-moon-landing/venv/lib/python3.9/site-packages (from transformers) (6.0.1)\r\n",
      "Requirement already satisfied: regex!=2019.12.17 in /Users/bytedance/Codes/llm-moon-landing/venv/lib/python3.9/site-packages (from transformers) (2024.5.15)\r\n",
      "Requirement already satisfied: requests in /Users/bytedance/Codes/llm-moon-landing/venv/lib/python3.9/site-packages (from transformers) (2.32.2)\r\n",
      "Requirement already satisfied: tokenizers<0.20,>=0.19 in /Users/bytedance/Codes/llm-moon-landing/venv/lib/python3.9/site-packages (from transformers) (0.19.1)\r\n",
      "Requirement already satisfied: safetensors>=0.4.1 in /Users/bytedance/Codes/llm-moon-landing/venv/lib/python3.9/site-packages (from transformers) (0.4.3)\r\n",
      "Requirement already satisfied: tqdm>=4.27 in /Users/bytedance/Codes/llm-moon-landing/venv/lib/python3.9/site-packages (from transformers) (4.66.4)\r\n",
      "Requirement already satisfied: fsspec>=2023.5.0 in /Users/bytedance/Codes/llm-moon-landing/venv/lib/python3.9/site-packages (from huggingface-hub<1.0,>=0.23.0->transformers) (2024.5.0)\r\n",
      "Requirement already satisfied: typing-extensions>=3.7.4.3 in /Users/bytedance/Codes/llm-moon-landing/venv/lib/python3.9/site-packages (from huggingface-hub<1.0,>=0.23.0->transformers) (4.11.0)\r\n",
      "Requirement already satisfied: charset-normalizer<4,>=2 in /Users/bytedance/Codes/llm-moon-landing/venv/lib/python3.9/site-packages (from requests->transformers) (3.3.2)\r\n",
      "Requirement already satisfied: idna<4,>=2.5 in /Users/bytedance/Codes/llm-moon-landing/venv/lib/python3.9/site-packages (from requests->transformers) (3.7)\r\n",
      "Requirement already satisfied: urllib3<3,>=1.21.1 in /Users/bytedance/Codes/llm-moon-landing/venv/lib/python3.9/site-packages (from requests->transformers) (1.26.18)\r\n",
      "Requirement already satisfied: certifi>=2017.4.17 in /Users/bytedance/Codes/llm-moon-landing/venv/lib/python3.9/site-packages (from requests->transformers) (2024.2.2)\r\n",
      "Requirement already satisfied: torch in /Users/bytedance/Codes/llm-moon-landing/venv/lib/python3.9/site-packages (2.3.0)\r\n",
      "Requirement already satisfied: filelock in /Users/bytedance/Codes/llm-moon-landing/venv/lib/python3.9/site-packages (from torch) (3.14.0)\r\n",
      "Requirement already satisfied: typing-extensions>=4.8.0 in /Users/bytedance/Codes/llm-moon-landing/venv/lib/python3.9/site-packages (from torch) (4.11.0)\r\n",
      "Requirement already satisfied: sympy in /Users/bytedance/Codes/llm-moon-landing/venv/lib/python3.9/site-packages (from torch) (1.12)\r\n",
      "Requirement already satisfied: networkx in /Users/bytedance/Codes/llm-moon-landing/venv/lib/python3.9/site-packages (from torch) (3.2.1)\r\n",
      "Requirement already satisfied: jinja2 in /Users/bytedance/Codes/llm-moon-landing/venv/lib/python3.9/site-packages (from torch) (3.1.4)\r\n",
      "Requirement already satisfied: fsspec in /Users/bytedance/Codes/llm-moon-landing/venv/lib/python3.9/site-packages (from torch) (2024.5.0)\r\n",
      "Requirement already satisfied: MarkupSafe>=2.0 in /Users/bytedance/Codes/llm-moon-landing/venv/lib/python3.9/site-packages (from jinja2->torch) (2.1.5)\r\n",
      "Requirement already satisfied: mpmath>=0.19 in /Users/bytedance/Codes/llm-moon-landing/venv/lib/python3.9/site-packages (from sympy->torch) (1.3.0)\r\n",
      "Requirement already satisfied: tensorflow in /Users/bytedance/Codes/llm-moon-landing/venv/lib/python3.9/site-packages (2.16.1)\r\n",
      "Requirement already satisfied: absl-py>=1.0.0 in /Users/bytedance/Codes/llm-moon-landing/venv/lib/python3.9/site-packages (from tensorflow) (2.1.0)\r\n",
      "Requirement already satisfied: astunparse>=1.6.0 in /Users/bytedance/Codes/llm-moon-landing/venv/lib/python3.9/site-packages (from tensorflow) (1.6.3)\r\n",
      "Requirement already satisfied: flatbuffers>=23.5.26 in /Users/bytedance/Codes/llm-moon-landing/venv/lib/python3.9/site-packages (from tensorflow) (24.3.25)\r\n",
      "Requirement already satisfied: gast!=0.5.0,!=0.5.1,!=0.5.2,>=0.2.1 in /Users/bytedance/Codes/llm-moon-landing/venv/lib/python3.9/site-packages (from tensorflow) (0.5.4)\r\n",
      "Requirement already satisfied: google-pasta>=0.1.1 in /Users/bytedance/Codes/llm-moon-landing/venv/lib/python3.9/site-packages (from tensorflow) (0.2.0)\r\n",
      "Requirement already satisfied: h5py>=3.10.0 in /Users/bytedance/Codes/llm-moon-landing/venv/lib/python3.9/site-packages (from tensorflow) (3.11.0)\r\n",
      "Requirement already satisfied: libclang>=13.0.0 in /Users/bytedance/Codes/llm-moon-landing/venv/lib/python3.9/site-packages (from tensorflow) (18.1.1)\r\n",
      "Requirement already satisfied: ml-dtypes~=0.3.1 in /Users/bytedance/Codes/llm-moon-landing/venv/lib/python3.9/site-packages (from tensorflow) (0.3.2)\r\n",
      "Requirement already satisfied: opt-einsum>=2.3.2 in /Users/bytedance/Codes/llm-moon-landing/venv/lib/python3.9/site-packages (from tensorflow) (3.3.0)\r\n",
      "Requirement already satisfied: packaging in /Users/bytedance/Codes/llm-moon-landing/venv/lib/python3.9/site-packages (from tensorflow) (24.0)\r\n",
      "Requirement already satisfied: protobuf!=4.21.0,!=4.21.1,!=4.21.2,!=4.21.3,!=4.21.4,!=4.21.5,<5.0.0dev,>=3.20.3 in /Users/bytedance/Codes/llm-moon-landing/venv/lib/python3.9/site-packages (from tensorflow) (4.25.3)\r\n",
      "Requirement already satisfied: requests<3,>=2.21.0 in /Users/bytedance/Codes/llm-moon-landing/venv/lib/python3.9/site-packages (from tensorflow) (2.32.2)\r\n",
      "Requirement already satisfied: setuptools in /Users/bytedance/Codes/llm-moon-landing/venv/lib/python3.9/site-packages (from tensorflow) (69.5.1)\r\n",
      "Requirement already satisfied: six>=1.12.0 in /Users/bytedance/Codes/llm-moon-landing/venv/lib/python3.9/site-packages (from tensorflow) (1.16.0)\r\n",
      "Requirement already satisfied: termcolor>=1.1.0 in /Users/bytedance/Codes/llm-moon-landing/venv/lib/python3.9/site-packages (from tensorflow) (2.4.0)\r\n",
      "Requirement already satisfied: typing-extensions>=3.6.6 in /Users/bytedance/Codes/llm-moon-landing/venv/lib/python3.9/site-packages (from tensorflow) (4.11.0)\r\n",
      "Requirement already satisfied: wrapt>=1.11.0 in /Users/bytedance/Codes/llm-moon-landing/venv/lib/python3.9/site-packages (from tensorflow) (1.16.0)\r\n",
      "Requirement already satisfied: grpcio<2.0,>=1.24.3 in /Users/bytedance/Codes/llm-moon-landing/venv/lib/python3.9/site-packages (from tensorflow) (1.64.0)\r\n",
      "Requirement already satisfied: tensorboard<2.17,>=2.16 in /Users/bytedance/Codes/llm-moon-landing/venv/lib/python3.9/site-packages (from tensorflow) (2.16.2)\r\n",
      "Requirement already satisfied: keras>=3.0.0 in /Users/bytedance/Codes/llm-moon-landing/venv/lib/python3.9/site-packages (from tensorflow) (3.3.3)\r\n",
      "Requirement already satisfied: tensorflow-io-gcs-filesystem>=0.23.1 in /Users/bytedance/Codes/llm-moon-landing/venv/lib/python3.9/site-packages (from tensorflow) (0.37.0)\r\n",
      "Requirement already satisfied: numpy<2.0.0,>=1.23.5 in /Users/bytedance/Codes/llm-moon-landing/venv/lib/python3.9/site-packages (from tensorflow) (1.26.4)\r\n",
      "Requirement already satisfied: wheel<1.0,>=0.23.0 in /Users/bytedance/Codes/llm-moon-landing/venv/lib/python3.9/site-packages (from astunparse>=1.6.0->tensorflow) (0.43.0)\r\n",
      "Requirement already satisfied: rich in /Users/bytedance/Codes/llm-moon-landing/venv/lib/python3.9/site-packages (from keras>=3.0.0->tensorflow) (13.7.1)\r\n",
      "Requirement already satisfied: namex in /Users/bytedance/Codes/llm-moon-landing/venv/lib/python3.9/site-packages (from keras>=3.0.0->tensorflow) (0.0.8)\r\n",
      "Requirement already satisfied: optree in /Users/bytedance/Codes/llm-moon-landing/venv/lib/python3.9/site-packages (from keras>=3.0.0->tensorflow) (0.11.0)\r\n",
      "Requirement already satisfied: charset-normalizer<4,>=2 in /Users/bytedance/Codes/llm-moon-landing/venv/lib/python3.9/site-packages (from requests<3,>=2.21.0->tensorflow) (3.3.2)\r\n",
      "Requirement already satisfied: idna<4,>=2.5 in /Users/bytedance/Codes/llm-moon-landing/venv/lib/python3.9/site-packages (from requests<3,>=2.21.0->tensorflow) (3.7)\r\n",
      "Requirement already satisfied: urllib3<3,>=1.21.1 in /Users/bytedance/Codes/llm-moon-landing/venv/lib/python3.9/site-packages (from requests<3,>=2.21.0->tensorflow) (1.26.18)\r\n",
      "Requirement already satisfied: certifi>=2017.4.17 in /Users/bytedance/Codes/llm-moon-landing/venv/lib/python3.9/site-packages (from requests<3,>=2.21.0->tensorflow) (2024.2.2)\r\n",
      "Requirement already satisfied: markdown>=2.6.8 in /Users/bytedance/Codes/llm-moon-landing/venv/lib/python3.9/site-packages (from tensorboard<2.17,>=2.16->tensorflow) (3.6)\r\n",
      "Requirement already satisfied: tensorboard-data-server<0.8.0,>=0.7.0 in /Users/bytedance/Codes/llm-moon-landing/venv/lib/python3.9/site-packages (from tensorboard<2.17,>=2.16->tensorflow) (0.7.2)\r\n",
      "Requirement already satisfied: werkzeug>=1.0.1 in /Users/bytedance/Codes/llm-moon-landing/venv/lib/python3.9/site-packages (from tensorboard<2.17,>=2.16->tensorflow) (3.0.3)\r\n",
      "Requirement already satisfied: importlib-metadata>=4.4 in /Users/bytedance/Codes/llm-moon-landing/venv/lib/python3.9/site-packages (from markdown>=2.6.8->tensorboard<2.17,>=2.16->tensorflow) (7.1.0)\r\n",
      "Requirement already satisfied: MarkupSafe>=2.1.1 in /Users/bytedance/Codes/llm-moon-landing/venv/lib/python3.9/site-packages (from werkzeug>=1.0.1->tensorboard<2.17,>=2.16->tensorflow) (2.1.5)\r\n",
      "Requirement already satisfied: markdown-it-py>=2.2.0 in /Users/bytedance/Codes/llm-moon-landing/venv/lib/python3.9/site-packages (from rich->keras>=3.0.0->tensorflow) (3.0.0)\r\n",
      "Requirement already satisfied: pygments<3.0.0,>=2.13.0 in /Users/bytedance/Codes/llm-moon-landing/venv/lib/python3.9/site-packages (from rich->keras>=3.0.0->tensorflow) (2.18.0)\r\n",
      "Requirement already satisfied: zipp>=0.5 in /Users/bytedance/Codes/llm-moon-landing/venv/lib/python3.9/site-packages (from importlib-metadata>=4.4->markdown>=2.6.8->tensorboard<2.17,>=2.16->tensorflow) (3.18.2)\r\n",
      "Requirement already satisfied: mdurl~=0.1 in /Users/bytedance/Codes/llm-moon-landing/venv/lib/python3.9/site-packages (from markdown-it-py>=2.2.0->rich->keras>=3.0.0->tensorflow) (0.1.2)\r\n",
      "Collecting tf-keras\r\n",
      "  Downloading tf_keras-2.16.0-py3-none-any.whl.metadata (1.6 kB)\r\n",
      "Requirement already satisfied: tensorflow<2.17,>=2.16 in /Users/bytedance/Codes/llm-moon-landing/venv/lib/python3.9/site-packages (from tf-keras) (2.16.1)\r\n",
      "Requirement already satisfied: absl-py>=1.0.0 in /Users/bytedance/Codes/llm-moon-landing/venv/lib/python3.9/site-packages (from tensorflow<2.17,>=2.16->tf-keras) (2.1.0)\r\n",
      "Requirement already satisfied: astunparse>=1.6.0 in /Users/bytedance/Codes/llm-moon-landing/venv/lib/python3.9/site-packages (from tensorflow<2.17,>=2.16->tf-keras) (1.6.3)\r\n",
      "Requirement already satisfied: flatbuffers>=23.5.26 in /Users/bytedance/Codes/llm-moon-landing/venv/lib/python3.9/site-packages (from tensorflow<2.17,>=2.16->tf-keras) (24.3.25)\r\n",
      "Requirement already satisfied: gast!=0.5.0,!=0.5.1,!=0.5.2,>=0.2.1 in /Users/bytedance/Codes/llm-moon-landing/venv/lib/python3.9/site-packages (from tensorflow<2.17,>=2.16->tf-keras) (0.5.4)\r\n",
      "Requirement already satisfied: google-pasta>=0.1.1 in /Users/bytedance/Codes/llm-moon-landing/venv/lib/python3.9/site-packages (from tensorflow<2.17,>=2.16->tf-keras) (0.2.0)\r\n",
      "Requirement already satisfied: h5py>=3.10.0 in /Users/bytedance/Codes/llm-moon-landing/venv/lib/python3.9/site-packages (from tensorflow<2.17,>=2.16->tf-keras) (3.11.0)\r\n",
      "Requirement already satisfied: libclang>=13.0.0 in /Users/bytedance/Codes/llm-moon-landing/venv/lib/python3.9/site-packages (from tensorflow<2.17,>=2.16->tf-keras) (18.1.1)\r\n",
      "Requirement already satisfied: ml-dtypes~=0.3.1 in /Users/bytedance/Codes/llm-moon-landing/venv/lib/python3.9/site-packages (from tensorflow<2.17,>=2.16->tf-keras) (0.3.2)\r\n",
      "Requirement already satisfied: opt-einsum>=2.3.2 in /Users/bytedance/Codes/llm-moon-landing/venv/lib/python3.9/site-packages (from tensorflow<2.17,>=2.16->tf-keras) (3.3.0)\r\n",
      "Requirement already satisfied: packaging in /Users/bytedance/Codes/llm-moon-landing/venv/lib/python3.9/site-packages (from tensorflow<2.17,>=2.16->tf-keras) (24.0)\r\n",
      "Requirement already satisfied: protobuf!=4.21.0,!=4.21.1,!=4.21.2,!=4.21.3,!=4.21.4,!=4.21.5,<5.0.0dev,>=3.20.3 in /Users/bytedance/Codes/llm-moon-landing/venv/lib/python3.9/site-packages (from tensorflow<2.17,>=2.16->tf-keras) (4.25.3)\r\n",
      "Requirement already satisfied: requests<3,>=2.21.0 in /Users/bytedance/Codes/llm-moon-landing/venv/lib/python3.9/site-packages (from tensorflow<2.17,>=2.16->tf-keras) (2.32.2)\r\n",
      "Requirement already satisfied: setuptools in /Users/bytedance/Codes/llm-moon-landing/venv/lib/python3.9/site-packages (from tensorflow<2.17,>=2.16->tf-keras) (69.5.1)\r\n",
      "Requirement already satisfied: six>=1.12.0 in /Users/bytedance/Codes/llm-moon-landing/venv/lib/python3.9/site-packages (from tensorflow<2.17,>=2.16->tf-keras) (1.16.0)\r\n",
      "Requirement already satisfied: termcolor>=1.1.0 in /Users/bytedance/Codes/llm-moon-landing/venv/lib/python3.9/site-packages (from tensorflow<2.17,>=2.16->tf-keras) (2.4.0)\r\n",
      "Requirement already satisfied: typing-extensions>=3.6.6 in /Users/bytedance/Codes/llm-moon-landing/venv/lib/python3.9/site-packages (from tensorflow<2.17,>=2.16->tf-keras) (4.11.0)\r\n",
      "Requirement already satisfied: wrapt>=1.11.0 in /Users/bytedance/Codes/llm-moon-landing/venv/lib/python3.9/site-packages (from tensorflow<2.17,>=2.16->tf-keras) (1.16.0)\r\n",
      "Requirement already satisfied: grpcio<2.0,>=1.24.3 in /Users/bytedance/Codes/llm-moon-landing/venv/lib/python3.9/site-packages (from tensorflow<2.17,>=2.16->tf-keras) (1.64.0)\r\n",
      "Requirement already satisfied: tensorboard<2.17,>=2.16 in /Users/bytedance/Codes/llm-moon-landing/venv/lib/python3.9/site-packages (from tensorflow<2.17,>=2.16->tf-keras) (2.16.2)\r\n",
      "Requirement already satisfied: keras>=3.0.0 in /Users/bytedance/Codes/llm-moon-landing/venv/lib/python3.9/site-packages (from tensorflow<2.17,>=2.16->tf-keras) (3.3.3)\r\n",
      "Requirement already satisfied: tensorflow-io-gcs-filesystem>=0.23.1 in /Users/bytedance/Codes/llm-moon-landing/venv/lib/python3.9/site-packages (from tensorflow<2.17,>=2.16->tf-keras) (0.37.0)\r\n",
      "Requirement already satisfied: numpy<2.0.0,>=1.23.5 in /Users/bytedance/Codes/llm-moon-landing/venv/lib/python3.9/site-packages (from tensorflow<2.17,>=2.16->tf-keras) (1.26.4)\r\n",
      "Requirement already satisfied: wheel<1.0,>=0.23.0 in /Users/bytedance/Codes/llm-moon-landing/venv/lib/python3.9/site-packages (from astunparse>=1.6.0->tensorflow<2.17,>=2.16->tf-keras) (0.43.0)\r\n",
      "Requirement already satisfied: rich in /Users/bytedance/Codes/llm-moon-landing/venv/lib/python3.9/site-packages (from keras>=3.0.0->tensorflow<2.17,>=2.16->tf-keras) (13.7.1)\r\n",
      "Requirement already satisfied: namex in /Users/bytedance/Codes/llm-moon-landing/venv/lib/python3.9/site-packages (from keras>=3.0.0->tensorflow<2.17,>=2.16->tf-keras) (0.0.8)\r\n",
      "Requirement already satisfied: optree in /Users/bytedance/Codes/llm-moon-landing/venv/lib/python3.9/site-packages (from keras>=3.0.0->tensorflow<2.17,>=2.16->tf-keras) (0.11.0)\r\n",
      "Requirement already satisfied: charset-normalizer<4,>=2 in /Users/bytedance/Codes/llm-moon-landing/venv/lib/python3.9/site-packages (from requests<3,>=2.21.0->tensorflow<2.17,>=2.16->tf-keras) (3.3.2)\r\n",
      "Requirement already satisfied: idna<4,>=2.5 in /Users/bytedance/Codes/llm-moon-landing/venv/lib/python3.9/site-packages (from requests<3,>=2.21.0->tensorflow<2.17,>=2.16->tf-keras) (3.7)\r\n",
      "Requirement already satisfied: urllib3<3,>=1.21.1 in /Users/bytedance/Codes/llm-moon-landing/venv/lib/python3.9/site-packages (from requests<3,>=2.21.0->tensorflow<2.17,>=2.16->tf-keras) (1.26.18)\r\n",
      "Requirement already satisfied: certifi>=2017.4.17 in /Users/bytedance/Codes/llm-moon-landing/venv/lib/python3.9/site-packages (from requests<3,>=2.21.0->tensorflow<2.17,>=2.16->tf-keras) (2024.2.2)\r\n",
      "Requirement already satisfied: markdown>=2.6.8 in /Users/bytedance/Codes/llm-moon-landing/venv/lib/python3.9/site-packages (from tensorboard<2.17,>=2.16->tensorflow<2.17,>=2.16->tf-keras) (3.6)\r\n",
      "Requirement already satisfied: tensorboard-data-server<0.8.0,>=0.7.0 in /Users/bytedance/Codes/llm-moon-landing/venv/lib/python3.9/site-packages (from tensorboard<2.17,>=2.16->tensorflow<2.17,>=2.16->tf-keras) (0.7.2)\r\n",
      "Requirement already satisfied: werkzeug>=1.0.1 in /Users/bytedance/Codes/llm-moon-landing/venv/lib/python3.9/site-packages (from tensorboard<2.17,>=2.16->tensorflow<2.17,>=2.16->tf-keras) (3.0.3)\r\n",
      "Requirement already satisfied: importlib-metadata>=4.4 in /Users/bytedance/Codes/llm-moon-landing/venv/lib/python3.9/site-packages (from markdown>=2.6.8->tensorboard<2.17,>=2.16->tensorflow<2.17,>=2.16->tf-keras) (7.1.0)\r\n",
      "Requirement already satisfied: MarkupSafe>=2.1.1 in /Users/bytedance/Codes/llm-moon-landing/venv/lib/python3.9/site-packages (from werkzeug>=1.0.1->tensorboard<2.17,>=2.16->tensorflow<2.17,>=2.16->tf-keras) (2.1.5)\r\n",
      "Requirement already satisfied: markdown-it-py>=2.2.0 in /Users/bytedance/Codes/llm-moon-landing/venv/lib/python3.9/site-packages (from rich->keras>=3.0.0->tensorflow<2.17,>=2.16->tf-keras) (3.0.0)\r\n",
      "Requirement already satisfied: pygments<3.0.0,>=2.13.0 in /Users/bytedance/Codes/llm-moon-landing/venv/lib/python3.9/site-packages (from rich->keras>=3.0.0->tensorflow<2.17,>=2.16->tf-keras) (2.18.0)\r\n",
      "Requirement already satisfied: zipp>=0.5 in /Users/bytedance/Codes/llm-moon-landing/venv/lib/python3.9/site-packages (from importlib-metadata>=4.4->markdown>=2.6.8->tensorboard<2.17,>=2.16->tensorflow<2.17,>=2.16->tf-keras) (3.18.2)\r\n",
      "Requirement already satisfied: mdurl~=0.1 in /Users/bytedance/Codes/llm-moon-landing/venv/lib/python3.9/site-packages (from markdown-it-py>=2.2.0->rich->keras>=3.0.0->tensorflow<2.17,>=2.16->tf-keras) (0.1.2)\r\n",
      "Downloading tf_keras-2.16.0-py3-none-any.whl (1.7 MB)\r\n",
      "\u001B[2K   \u001B[90m━━━━━━━━━━━━━━━━━━━━━━━━━━━━━━━━━━━━━━━━\u001B[0m \u001B[32m1.7/1.7 MB\u001B[0m \u001B[31m5.5 MB/s\u001B[0m eta \u001B[36m0:00:00\u001B[0m00:01\u001B[0m00:01\u001B[0m\r\n",
      "\u001B[?25hInstalling collected packages: tf-keras\r\n",
      "Successfully installed tf-keras-2.16.0\r\n"
     ]
    }
   ],
   "source": [
    "!pip install transformers\n",
    "!pip install torch\n",
    "!pip install tensorflow\n",
    "!pip install tf-keras"
   ]
  },
  {
   "cell_type": "markdown",
   "source": [],
   "metadata": {
    "collapsed": false
   },
   "id": "447713c73f7a6057"
  },
  {
   "cell_type": "code",
   "execution_count": 4,
   "outputs": [
    {
     "data": {
      "text/plain": "model.safetensors:   0%|          | 0.00/2.24G [00:00<?, ?B/s]",
      "application/vnd.jupyter.widget-view+json": {
       "version_major": 2,
       "version_minor": 0,
       "model_id": "23c0e53aae21498986670d9e4f041a9e"
      }
     },
     "metadata": {},
     "output_type": "display_data"
    },
    {
     "name": "stderr",
     "output_type": "stream",
     "text": [
      "Some weights of XLMRobertaModel were not initialized from the model checkpoint at BAAI/bge-reranker-large and are newly initialized: ['roberta.pooler.dense.bias', 'roberta.pooler.dense.weight']\n",
      "You should probably TRAIN this model on a down-stream task to be able to use it for predictions and inference.\n"
     ]
    },
    {
     "data": {
      "text/plain": "tokenizer_config.json:   0%|          | 0.00/443 [00:00<?, ?B/s]",
      "application/vnd.jupyter.widget-view+json": {
       "version_major": 2,
       "version_minor": 0,
       "model_id": "a7085c1eb11143e898319b29132e9ce6"
      }
     },
     "metadata": {},
     "output_type": "display_data"
    },
    {
     "data": {
      "text/plain": "sentencepiece.bpe.model:   0%|          | 0.00/5.07M [00:00<?, ?B/s]",
      "application/vnd.jupyter.widget-view+json": {
       "version_major": 2,
       "version_minor": 0,
       "model_id": "f0ffe6c91f794839ad885f2b58dcf376"
      }
     },
     "metadata": {},
     "output_type": "display_data"
    },
    {
     "data": {
      "text/plain": "tokenizer.json:   0%|          | 0.00/17.1M [00:00<?, ?B/s]",
      "application/vnd.jupyter.widget-view+json": {
       "version_major": 2,
       "version_minor": 0,
       "model_id": "0eae69c462a444eea15ec2abf33df773"
      }
     },
     "metadata": {},
     "output_type": "display_data"
    },
    {
     "data": {
      "text/plain": "special_tokens_map.json:   0%|          | 0.00/279 [00:00<?, ?B/s]",
      "application/vnd.jupyter.widget-view+json": {
       "version_major": 2,
       "version_minor": 0,
       "model_id": "0793dad07baa4dc69ccfd4b37ff1a9aa"
      }
     },
     "metadata": {},
     "output_type": "display_data"
    }
   ],
   "source": [
    "# Use a pipeline as a high-level helper\n",
    "from transformers import pipeline\n",
    "\n",
    "pipe = pipeline(\"feature-extraction\", model=\"BAAI/bge-reranker-large\")"
   ],
   "metadata": {
    "collapsed": false,
    "ExecuteTime": {
     "end_time": "2024-05-22T10:32:44.358934Z",
     "start_time": "2024-05-22T10:27:17.353115Z"
    }
   },
   "id": "11ca2e70a4c2b4d3"
  },
  {
   "cell_type": "code",
   "execution_count": 6,
   "outputs": [
    {
     "data": {
      "text/plain": "XLMRobertaForSequenceClassification(\n  (roberta): XLMRobertaModel(\n    (embeddings): XLMRobertaEmbeddings(\n      (word_embeddings): Embedding(250002, 1024, padding_idx=1)\n      (position_embeddings): Embedding(514, 1024, padding_idx=1)\n      (token_type_embeddings): Embedding(1, 1024)\n      (LayerNorm): LayerNorm((1024,), eps=1e-05, elementwise_affine=True)\n      (dropout): Dropout(p=0.1, inplace=False)\n    )\n    (encoder): XLMRobertaEncoder(\n      (layer): ModuleList(\n        (0-23): 24 x XLMRobertaLayer(\n          (attention): XLMRobertaAttention(\n            (self): XLMRobertaSelfAttention(\n              (query): Linear(in_features=1024, out_features=1024, bias=True)\n              (key): Linear(in_features=1024, out_features=1024, bias=True)\n              (value): Linear(in_features=1024, out_features=1024, bias=True)\n              (dropout): Dropout(p=0.1, inplace=False)\n            )\n            (output): XLMRobertaSelfOutput(\n              (dense): Linear(in_features=1024, out_features=1024, bias=True)\n              (LayerNorm): LayerNorm((1024,), eps=1e-05, elementwise_affine=True)\n              (dropout): Dropout(p=0.1, inplace=False)\n            )\n          )\n          (intermediate): XLMRobertaIntermediate(\n            (dense): Linear(in_features=1024, out_features=4096, bias=True)\n            (intermediate_act_fn): GELUActivation()\n          )\n          (output): XLMRobertaOutput(\n            (dense): Linear(in_features=4096, out_features=1024, bias=True)\n            (LayerNorm): LayerNorm((1024,), eps=1e-05, elementwise_affine=True)\n            (dropout): Dropout(p=0.1, inplace=False)\n          )\n        )\n      )\n    )\n  )\n  (classifier): XLMRobertaClassificationHead(\n    (dense): Linear(in_features=1024, out_features=1024, bias=True)\n    (dropout): Dropout(p=0.1, inplace=False)\n    (out_proj): Linear(in_features=1024, out_features=1, bias=True)\n  )\n)"
     },
     "execution_count": 6,
     "metadata": {},
     "output_type": "execute_result"
    }
   ],
   "source": [
    "# Load model directly\n",
    "from transformers import AutoTokenizer, AutoModelForSequenceClassification\n",
    "\n",
    "tokenizer = AutoTokenizer.from_pretrained(\"BAAI/bge-reranker-large\")\n",
    "model = AutoModelForSequenceClassification.from_pretrained(\"BAAI/bge-reranker-large\")\n",
    "model.eval()"
   ],
   "metadata": {
    "collapsed": false,
    "ExecuteTime": {
     "end_time": "2024-05-22T11:01:10.147007Z",
     "start_time": "2024-05-22T11:01:01.273165Z"
    }
   },
   "id": "f34c3b5902801d03"
  },
  {
   "cell_type": "code",
   "execution_count": 38,
   "outputs": [
    {
     "name": "stdout",
     "output_type": "stream",
     "text": [
      "tensor([-8.5387, -2.2198,  1.1193, -0.1491, -6.6017, -3.0971,  0.3987, -3.7988,\n",
      "         3.5383,  1.6558,  3.6691, -9.3580, -1.1942,  4.3502, -1.1301, -1.1301,\n",
      "         1.5762, -0.4181,  7.0806, -0.3576, -0.9611, -1.9258,  6.2160, -2.4946,\n",
      "         1.7139, -1.1039, -1.9299, -3.0862, -2.1455, -0.1357, -4.1360,  1.7772,\n",
      "        -1.6783, -1.1421,  1.6107, -2.0998, -1.5302, -1.4146,  1.5495,  6.3657,\n",
      "        -3.4976, -0.5961,  2.5404, -5.2285, -6.7527, -1.2261, -1.2851, -0.2454,\n",
      "         0.5704, -4.5162,  4.4758, -1.7974, -0.0717,  5.6725, -3.9152,  3.7763,\n",
      "        -2.4061,  1.3164, -2.6634,  2.0456, -0.9420, -1.9358, -0.5548, -4.2281,\n",
      "        -3.3257, -1.0760,  3.6848, -1.4723, -0.2776,  5.4417, -1.6662, -2.7747,\n",
      "        -4.2702, -6.8187, -2.5111, -0.8917,  0.0402,  0.5696, -0.4174,  6.1045,\n",
      "        -2.4824, -2.7042,  1.1897,  5.9230, -0.9140, -5.1954,  0.6024, -5.4988,\n",
      "        -2.6362, -2.3127,  2.8535, -0.8844, -5.6915, -2.1630, -7.9957, -2.9603,\n",
      "        -4.6994, -3.4940, -1.7096, -2.2100, -0.1207,  1.5308, -8.2461, -3.9324,\n",
      "        -2.7372, -1.9655, -0.5141, -1.7846, -0.7006, -5.1084, -1.2738, -5.5283,\n",
      "        -3.5556,  0.9644, -1.7055, -7.1619, -3.2369, -3.7110, -4.6560, -4.8422,\n",
      "        -1.9482, -2.2422, -8.6691, -1.1179, -2.9150, -2.0243, -1.5901, -4.6005,\n",
      "        -3.4382,  0.7462, -0.5042, -2.8283, -2.4909, -2.2392,  0.2979, -1.6994,\n",
      "        -5.4297, -0.6771, -1.3905, -0.5127, -9.1837, -1.2864,  0.2405, -1.8059,\n",
      "         3.4722,  2.8678, -0.4222,  0.8416, -2.5861, -0.0451, -2.0281,  1.0561,\n",
      "         0.7095, -2.5978, -2.3648, -3.0437,  1.3382, -5.2888, -2.1222, -1.5527,\n",
      "        -0.3090, -3.3026, -2.9518,  5.4048, -1.6572,  5.6317, -7.4042, -1.7729,\n",
      "         3.4048, -0.0680, -1.4380, -0.2429, -0.1748, -3.0763, -2.7175,  0.8514,\n",
      "        -3.4185, -0.6809,  0.5565, -5.9278, -6.6402, -3.0876, -7.1133,  7.0005,\n",
      "        -2.2382, -1.8790,  0.3614, -0.3505, -3.4570, -2.2184,  1.2012, -0.3427,\n",
      "         1.8688, -4.8316, -0.8617, -3.1318, -5.6823, -6.9954,  4.8593,  0.7346,\n",
      "        -1.4874,  1.2841, -1.2106, -3.1659, -1.8207,  5.9721, -1.9323, -2.1254,\n",
      "         2.1751, -2.3245, -2.3245, -2.4349,  2.1112, -1.5602, -7.8755, -4.9888,\n",
      "         1.5740, -2.5699,  3.5074,  2.4939, -2.2471,  1.8964,  0.1626,  1.1821,\n",
      "         3.4280,  5.5501, -3.1407, -4.2825, -0.7723, -8.0483, -8.6371, -2.3018,\n",
      "        -1.6729,  0.2996, -1.9068, -2.6971, -0.7637, -1.5577, -2.0679, -1.6741,\n",
      "        -0.4571, -4.4484, -3.1160, -3.4570, -3.7944, -1.1801, -0.2574,  2.4740,\n",
      "        -6.5095, -3.1198, -5.3535, -0.7763, -8.5312,  2.7172, -2.0478, -2.8683,\n",
      "        -4.7737, -1.5134, -2.3589, -5.5834, -0.8181, -0.7191,  1.3645, -2.5137,\n",
      "         3.5032,  4.8324, -1.0067, -2.5842, -3.2840, -1.3060, -2.1303, -7.3314,\n",
      "        -1.9450, -1.3839, -4.4693, -3.0914,  1.6695, -0.1878,  0.6615, -4.1828,\n",
      "         0.5956, -1.6662, -1.9292,  0.2271, -2.1667, -0.4041, -1.2307, -2.4022,\n",
      "        -7.8005, -4.5104, -1.7290, -4.3162, -1.9258, -1.9258, -1.9258,  1.8679,\n",
      "        -2.7340,  2.7866, -1.8749, -1.7401, -2.4534, -8.2000, -2.1680, -7.0761,\n",
      "        -1.7113, -3.6973, -5.4428, -0.6884, -4.4484, -3.1738, -5.6673, -3.3984,\n",
      "         0.1518, -6.5602, -1.0195, -2.1968, -4.8967, -2.7476, -1.0906,  3.2323,\n",
      "        -5.3493,  4.7417, -1.0601, -1.5063, -4.4388, -2.2536, -8.0585, -1.9424,\n",
      "         8.2725, -0.9095, -3.0810, -1.9830, -7.4556, -4.2742,  4.1662, -7.0955,\n",
      "        -4.3708,  0.8693, -3.0609,  1.3397, -0.7117, -3.9615, -3.7530,  1.1172,\n",
      "        -0.6381, -0.9401, -2.6085, -3.4338,  4.5532, -1.3822, -4.1269,  2.5828,\n",
      "         0.5881, -1.6741,  1.2832, -0.5653, -2.3423, -0.3449, -2.4890, -0.0209,\n",
      "         1.0495, -1.8613, -0.8980, -8.5044, -2.6766, -2.2676, -6.3472, -2.9912,\n",
      "        -1.1058, -3.3011, -5.5546, -3.1983, -0.7430, -3.9744,  1.0770, -4.8271,\n",
      "         0.3447, -1.1720, -3.4514, -1.8641, -0.2427, -6.2153, -3.7766, -1.1705,\n",
      "        -7.8037, -2.0552, -3.9197, -2.2174, -5.9855,  2.8637, -1.5216, -2.0552,\n",
      "        -1.2231,  0.0131,  1.4358, -3.9221, -0.3095, -2.3924,  1.2012, -1.9191,\n",
      "         0.3534, -0.4812, -2.5144, -2.9815, -2.5832,  8.8886, -2.6764,  0.0667,\n",
      "        -0.5737, -0.4793, -7.1078, -0.6337, -2.8960, -0.7041, -3.5162,  2.1068,\n",
      "        -6.5071, -2.7436, -3.0115, -5.5522,  0.1975, -2.3878, -0.3665, -1.0165,\n",
      "        -3.6440,  1.2032, -5.3038, -4.9773, -1.9752,  0.3338, -1.8886, -6.7241,\n",
      "        -6.7901, -6.6848, -1.9761, -3.3505, -0.5648, -2.0749, -0.0220, -5.7809,\n",
      "        -3.2201,  3.5938, -2.0751, -2.2439, -3.2100, -2.4052,  5.1996, -4.5663,\n",
      "        -2.1364, -1.8968, -6.2074, -4.9055, -3.7441, -1.2575,  0.1665, -1.8245,\n",
      "         0.6994,  1.7656, -4.2927, -0.8214, -0.2960, -7.3322,  1.0929, -2.5923,\n",
      "        -0.4529, -2.0223, -3.0080, -0.6975,  0.0616,  3.4708, -0.3855, -4.3799,\n",
      "        -1.9896, -6.6893, -9.4194, -2.3424, -3.3535, -0.6923, -0.8367, -0.2305,\n",
      "        -0.5871,  1.3333, -2.1998, -2.4458, -3.2326,  0.0498, -0.6909, -4.3878,\n",
      "        -1.5995, -2.1592, -0.5658,  3.1979, -5.5827,  6.8473, -3.0078,  0.4897,\n",
      "        -1.9970,  0.4458, -2.0729, -0.2074, -3.2347,  2.5852])\n"
     ]
    }
   ],
   "source": [
    "import torch\n",
    "from utils import read_csv\n",
    "\n",
    "pairs = [\"我会复印这份文档，转交给各个守护者。\"]\n",
    "\n",
    "df = read_csv(\"术语表.csv\")\n",
    "\n",
    "for index, row in df.iterrows():\n",
    "    pairs.append(row[\"name\"] + \",\" + row[\"value\"])\n",
    "    \n",
    "# print(pairs)\n",
    "with torch.no_grad():\n",
    "    inputs = tokenizer(pairs, padding=True, truncation=True, return_tensors='pt', max_length=512)\n",
    "    scores = model(**inputs, return_dict=True).logits.view(-1, ).float()\n",
    "    print(scores)"
   ],
   "metadata": {
    "collapsed": false,
    "ExecuteTime": {
     "end_time": "2024-05-22T12:11:15.843540Z",
     "start_time": "2024-05-22T12:11:02.379512Z"
    }
   },
   "id": "7fd26595b7525df8"
  },
  {
   "cell_type": "code",
   "execution_count": null,
   "outputs": [],
   "source": [],
   "metadata": {
    "collapsed": false
   },
   "id": "1109f55950b5228a"
  }
 ],
 "metadata": {
  "kernelspec": {
   "display_name": "Python 3",
   "language": "python",
   "name": "python3"
  },
  "language_info": {
   "codemirror_mode": {
    "name": "ipython",
    "version": 2
   },
   "file_extension": ".py",
   "mimetype": "text/x-python",
   "name": "python",
   "nbconvert_exporter": "python",
   "pygments_lexer": "ipython2",
   "version": "2.7.6"
  }
 },
 "nbformat": 4,
 "nbformat_minor": 5
}
