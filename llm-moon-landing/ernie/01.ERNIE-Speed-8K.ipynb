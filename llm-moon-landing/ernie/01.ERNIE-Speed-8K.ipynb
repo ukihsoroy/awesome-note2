{
 "cells": [
  {
   "cell_type": "code",
   "execution_count": 6,
   "id": "initial_id",
   "metadata": {
    "collapsed": true,
    "ExecuteTime": {
     "end_time": "2024-05-22T02:31:43.512406Z",
     "start_time": "2024-05-22T02:31:43.508872Z"
    }
   },
   "outputs": [],
   "source": [
    "import requests\n",
    "import json\n",
    "\n",
    "from ernie_utils import get_access_token\n",
    "\n",
    "client_id=\"\"\n",
    "client_secret=\"\"\n",
    "\n",
    "prompt = \"介绍一下北京\""
   ]
  },
  {
   "cell_type": "code",
   "execution_count": 8,
   "outputs": [],
   "source": [
    "def ernie_speed():\n",
    "   \n",
    "    url = \"https://aip.baidubce.com/rpc/2.0/ai_custom/v1/wenxinworkshop/chat/ernie_speed?access_token=\" + get_access_token(client_id, client_secret)\n",
    "    \n",
    "    payload = json.dumps({\n",
    "        \"messages\": [\n",
    "            {\n",
    "                \"role\": \"user\",\n",
    "                \"content\": prompt\n",
    "            }\n",
    "        ]\n",
    "    })\n",
    "    headers = {\n",
    "        'Content-Type': 'application/json'\n",
    "    }\n",
    "    \n",
    "    response = requests.request(\"POST\", url, headers=headers, data=payload)\n",
    "    \n",
    "    print(response.text)"
   ],
   "metadata": {
    "collapsed": false,
    "ExecuteTime": {
     "end_time": "2024-05-22T02:31:48.501961Z",
     "start_time": "2024-05-22T02:31:48.498439Z"
    }
   },
   "id": "88c430ad2e94b27"
  },
  {
   "cell_type": "code",
   "execution_count": 14,
   "outputs": [
    {
     "name": "stdout",
     "output_type": "stream",
     "text": [
      "{\"id\":\"as-pfv4nfmre5\",\"object\":\"chat.completion\",\"created\":1716345298,\"result\":\"北京是中国的首都，也是一座拥有悠久历史和丰富文化的城市。以下是关于北京的详细介绍：\\n\\n1. 地理位置：北京位于华北平原的西北部，背靠燕山，毗邻天津市和河北省。\\n2. 历史背景：北京有着3000多年的历史，曾是多个朝代的都城，如元、明、清等。因此，北京拥有丰富的历史文化遗产和古迹。\\n3. 经济发展：近年来，北京的经济发展迅速，成为全球重要的经济中心之一。同时，北京也是中国的政治中心和文化中心。\\n4. 旅游资源：北京拥有众多的旅游景点，如故宫、天安门广场、长城、颐和园等。这些景点吸引了大量的国内外游客前来观光旅游。\\n5. 文化特色：北京的文化底蕴深厚，京剧、相声等传统文化艺术在这里得到传承和发展。此外，北京的美食也非常有名，如烤鸭、豆汁、炸酱面等。\\n6. 教育资源：北京拥有众多知名的高等教育机构，如北京大学、清华大学等，吸引了全国各地的学生前来求学。\\n7. 现代化建设：随着城市的不断发展，北京在保留传统文化的同时，也在积极推进现代化建设，城市面貌日新月异。\\n\\n总之，北京是一座充满历史、文化、现代化气息的城市，拥有丰富的旅游资源和教育资源，是中国的重要城市之一。\",\"is_truncated\":false,\"need_clear_history\":false,\"usage\":{\"prompt_tokens\":2,\"completion_tokens\":251,\"total_tokens\":253}}\n",
      "5.475625991821289\n"
     ]
    }
   ],
   "source": [
    "import time\n",
    "start_time = time.time()\n",
    "ernie_speed()\n",
    "end_time = time.time()\n",
    "print(end_time - start_time)"
   ],
   "metadata": {
    "collapsed": false,
    "ExecuteTime": {
     "end_time": "2024-05-22T02:34:58.361955Z",
     "start_time": "2024-05-22T02:34:52.878081Z"
    }
   },
   "id": "698b6d8143b69e95"
  },
  {
   "cell_type": "code",
   "execution_count": null,
   "outputs": [],
   "source": [],
   "metadata": {
    "collapsed": false
   },
   "id": "57b80f9d2e397777"
  }
 ],
 "metadata": {
  "kernelspec": {
   "display_name": "Python 3",
   "language": "python",
   "name": "python3"
  },
  "language_info": {
   "codemirror_mode": {
    "name": "ipython",
    "version": 2
   },
   "file_extension": ".py",
   "mimetype": "text/x-python",
   "name": "python",
   "nbconvert_exporter": "python",
   "pygments_lexer": "ipython2",
   "version": "2.7.6"
  }
 },
 "nbformat": 4,
 "nbformat_minor": 5
}
